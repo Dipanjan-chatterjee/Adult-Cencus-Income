{
  "nbformat": 4,
  "nbformat_minor": 0,
  "metadata": {
    "colab": {
      "name": "Thomson_Reuters_CaseStudy_RoughWork.ipynb",
      "provenance": [],
      "collapsed_sections": []
    },
    "kernelspec": {
      "name": "python3",
      "display_name": "Python 3"
    },
    "language_info": {
      "name": "python"
    }
  },
  "cells": [
    {
      "cell_type": "code",
      "source": [
        "from bs4 import BeautifulSoup\n",
        "import re\n",
        "import csv\n",
        "import requests\n",
        "import pandas as pd\n",
        "from urllib.request import urlopen\n",
        "from datetime import datetime\n",
        "import numpy as np\n",
        "import matplotlib.pyplot as plt\n",
        "import seaborn as sns\n",
        "from sklearn.preprocessing import LabelEncoder\n",
        "from sklearn.model_selection import train_test_split\n",
        "from sklearn.preprocessing import StandardScaler"
      ],
      "metadata": {
        "id": "yC6Vt5tFfJhZ"
      },
      "execution_count": 1,
      "outputs": []
    },
    {
      "cell_type": "markdown",
      "source": [
        "## Webscraping to collect the data from the url"
      ],
      "metadata": {
        "id": "7YEhZGROQ9VI"
      }
    },
    {
      "cell_type": "markdown",
      "source": [
        "We are performing web scraping using Beautifulsoup to collect the data from the API directly, and store it in human readable pandas dataframe."
      ],
      "metadata": {
        "id": "LyWkfgmsRDE2"
      }
    },
    {
      "cell_type": "code",
      "source": [
        "url = 'https://archive.ics.uci.edu/ml/datasets/Adult'\n",
        "req = requests.get(url)\n",
        "content = req.text\n",
        "soup = BeautifulSoup(content,'html.parser')\n",
        "data_url='https://archive.ics.uci.edu/ml/'\n",
        "for link in soup.find_all('a',attrs={'href': re.compile(\"../machine-learning-databases/adult/\")}):\n",
        "  data_url = data_url+ link.get('href')[3:]\n",
        "  break\n",
        "print (data_url)\n",
        "data_req = requests.get(data_url)\n",
        "data_content = data_req.text\n",
        "soup1 = BeautifulSoup(data_content,'html.parser')\n",
        "\n",
        "for link in soup1.find_all('a',attrs={'href':re.compile(\"adult.data\")}):\n",
        "  adult_dataset_url = data_url + link.get('href')\n",
        "\n"
      ],
      "metadata": {
        "colab": {
          "base_uri": "https://localhost:8080/"
        },
        "id": "BhCi7DayfPEX",
        "outputId": "462aba35-1595-45c9-e67c-1f3e54db885c"
      },
      "execution_count": 2,
      "outputs": [
        {
          "output_type": "stream",
          "name": "stdout",
          "text": [
            "https://archive.ics.uci.edu/ml/machine-learning-databases/adult/\n"
          ]
        }
      ]
    },
    {
      "cell_type": "markdown",
      "source": [
        "We are replacing the feature name with the meaningful names collected from the Data-description given in the url"
      ],
      "metadata": {
        "id": "6PS6DizfRaxz"
      }
    },
    {
      "cell_type": "code",
      "source": [
        "df = pd.read_csv(adult_dataset_url,header=None)\n",
        "#Rename the columns according to the dataset description\n",
        "df.rename(columns={0:'age',1:'workclass',2:'fnlwgt',\n",
        "                   3:'education',4:'education-num',5:'marital-status',\n",
        "                   6:'occupation',7:'relationship',8:'race',9:'sex',\n",
        "                   10:'capital-gain',11:'capital-loss',12:'hours-per-week',\n",
        "                   13:'native-country',14:'income'},inplace=True)"
      ],
      "metadata": {
        "id": "9SiFHbeJlITl"
      },
      "execution_count": 3,
      "outputs": []
    },
    {
      "cell_type": "code",
      "source": [
        "df.head(5)"
      ],
      "metadata": {
        "colab": {
          "base_uri": "https://localhost:8080/",
          "height": 333
        },
        "id": "lQCXT_QggH8u",
        "outputId": "f34ffa4e-a11a-46cb-e248-9afbe52e396a"
      },
      "execution_count": 4,
      "outputs": [
        {
          "output_type": "execute_result",
          "data": {
            "text/plain": [
              "   age          workclass  fnlwgt   education  education-num  \\\n",
              "0   39          State-gov   77516   Bachelors             13   \n",
              "1   50   Self-emp-not-inc   83311   Bachelors             13   \n",
              "2   38            Private  215646     HS-grad              9   \n",
              "3   53            Private  234721        11th              7   \n",
              "4   28            Private  338409   Bachelors             13   \n",
              "\n",
              "        marital-status          occupation    relationship    race      sex  \\\n",
              "0        Never-married        Adm-clerical   Not-in-family   White     Male   \n",
              "1   Married-civ-spouse     Exec-managerial         Husband   White     Male   \n",
              "2             Divorced   Handlers-cleaners   Not-in-family   White     Male   \n",
              "3   Married-civ-spouse   Handlers-cleaners         Husband   Black     Male   \n",
              "4   Married-civ-spouse      Prof-specialty            Wife   Black   Female   \n",
              "\n",
              "   capital-gain  capital-loss  hours-per-week  native-country  income  \n",
              "0          2174             0              40   United-States   <=50K  \n",
              "1             0             0              13   United-States   <=50K  \n",
              "2             0             0              40   United-States   <=50K  \n",
              "3             0             0              40   United-States   <=50K  \n",
              "4             0             0              40            Cuba   <=50K  "
            ],
            "text/html": [
              "\n",
              "  <div id=\"df-b0e1b235-2c84-4333-918e-57cda1be3f09\">\n",
              "    <div class=\"colab-df-container\">\n",
              "      <div>\n",
              "<style scoped>\n",
              "    .dataframe tbody tr th:only-of-type {\n",
              "        vertical-align: middle;\n",
              "    }\n",
              "\n",
              "    .dataframe tbody tr th {\n",
              "        vertical-align: top;\n",
              "    }\n",
              "\n",
              "    .dataframe thead th {\n",
              "        text-align: right;\n",
              "    }\n",
              "</style>\n",
              "<table border=\"1\" class=\"dataframe\">\n",
              "  <thead>\n",
              "    <tr style=\"text-align: right;\">\n",
              "      <th></th>\n",
              "      <th>age</th>\n",
              "      <th>workclass</th>\n",
              "      <th>fnlwgt</th>\n",
              "      <th>education</th>\n",
              "      <th>education-num</th>\n",
              "      <th>marital-status</th>\n",
              "      <th>occupation</th>\n",
              "      <th>relationship</th>\n",
              "      <th>race</th>\n",
              "      <th>sex</th>\n",
              "      <th>capital-gain</th>\n",
              "      <th>capital-loss</th>\n",
              "      <th>hours-per-week</th>\n",
              "      <th>native-country</th>\n",
              "      <th>income</th>\n",
              "    </tr>\n",
              "  </thead>\n",
              "  <tbody>\n",
              "    <tr>\n",
              "      <th>0</th>\n",
              "      <td>39</td>\n",
              "      <td>State-gov</td>\n",
              "      <td>77516</td>\n",
              "      <td>Bachelors</td>\n",
              "      <td>13</td>\n",
              "      <td>Never-married</td>\n",
              "      <td>Adm-clerical</td>\n",
              "      <td>Not-in-family</td>\n",
              "      <td>White</td>\n",
              "      <td>Male</td>\n",
              "      <td>2174</td>\n",
              "      <td>0</td>\n",
              "      <td>40</td>\n",
              "      <td>United-States</td>\n",
              "      <td>&lt;=50K</td>\n",
              "    </tr>\n",
              "    <tr>\n",
              "      <th>1</th>\n",
              "      <td>50</td>\n",
              "      <td>Self-emp-not-inc</td>\n",
              "      <td>83311</td>\n",
              "      <td>Bachelors</td>\n",
              "      <td>13</td>\n",
              "      <td>Married-civ-spouse</td>\n",
              "      <td>Exec-managerial</td>\n",
              "      <td>Husband</td>\n",
              "      <td>White</td>\n",
              "      <td>Male</td>\n",
              "      <td>0</td>\n",
              "      <td>0</td>\n",
              "      <td>13</td>\n",
              "      <td>United-States</td>\n",
              "      <td>&lt;=50K</td>\n",
              "    </tr>\n",
              "    <tr>\n",
              "      <th>2</th>\n",
              "      <td>38</td>\n",
              "      <td>Private</td>\n",
              "      <td>215646</td>\n",
              "      <td>HS-grad</td>\n",
              "      <td>9</td>\n",
              "      <td>Divorced</td>\n",
              "      <td>Handlers-cleaners</td>\n",
              "      <td>Not-in-family</td>\n",
              "      <td>White</td>\n",
              "      <td>Male</td>\n",
              "      <td>0</td>\n",
              "      <td>0</td>\n",
              "      <td>40</td>\n",
              "      <td>United-States</td>\n",
              "      <td>&lt;=50K</td>\n",
              "    </tr>\n",
              "    <tr>\n",
              "      <th>3</th>\n",
              "      <td>53</td>\n",
              "      <td>Private</td>\n",
              "      <td>234721</td>\n",
              "      <td>11th</td>\n",
              "      <td>7</td>\n",
              "      <td>Married-civ-spouse</td>\n",
              "      <td>Handlers-cleaners</td>\n",
              "      <td>Husband</td>\n",
              "      <td>Black</td>\n",
              "      <td>Male</td>\n",
              "      <td>0</td>\n",
              "      <td>0</td>\n",
              "      <td>40</td>\n",
              "      <td>United-States</td>\n",
              "      <td>&lt;=50K</td>\n",
              "    </tr>\n",
              "    <tr>\n",
              "      <th>4</th>\n",
              "      <td>28</td>\n",
              "      <td>Private</td>\n",
              "      <td>338409</td>\n",
              "      <td>Bachelors</td>\n",
              "      <td>13</td>\n",
              "      <td>Married-civ-spouse</td>\n",
              "      <td>Prof-specialty</td>\n",
              "      <td>Wife</td>\n",
              "      <td>Black</td>\n",
              "      <td>Female</td>\n",
              "      <td>0</td>\n",
              "      <td>0</td>\n",
              "      <td>40</td>\n",
              "      <td>Cuba</td>\n",
              "      <td>&lt;=50K</td>\n",
              "    </tr>\n",
              "  </tbody>\n",
              "</table>\n",
              "</div>\n",
              "      <button class=\"colab-df-convert\" onclick=\"convertToInteractive('df-b0e1b235-2c84-4333-918e-57cda1be3f09')\"\n",
              "              title=\"Convert this dataframe to an interactive table.\"\n",
              "              style=\"display:none;\">\n",
              "        \n",
              "  <svg xmlns=\"http://www.w3.org/2000/svg\" height=\"24px\"viewBox=\"0 0 24 24\"\n",
              "       width=\"24px\">\n",
              "    <path d=\"M0 0h24v24H0V0z\" fill=\"none\"/>\n",
              "    <path d=\"M18.56 5.44l.94 2.06.94-2.06 2.06-.94-2.06-.94-.94-2.06-.94 2.06-2.06.94zm-11 1L8.5 8.5l.94-2.06 2.06-.94-2.06-.94L8.5 2.5l-.94 2.06-2.06.94zm10 10l.94 2.06.94-2.06 2.06-.94-2.06-.94-.94-2.06-.94 2.06-2.06.94z\"/><path d=\"M17.41 7.96l-1.37-1.37c-.4-.4-.92-.59-1.43-.59-.52 0-1.04.2-1.43.59L10.3 9.45l-7.72 7.72c-.78.78-.78 2.05 0 2.83L4 21.41c.39.39.9.59 1.41.59.51 0 1.02-.2 1.41-.59l7.78-7.78 2.81-2.81c.8-.78.8-2.07 0-2.86zM5.41 20L4 18.59l7.72-7.72 1.47 1.35L5.41 20z\"/>\n",
              "  </svg>\n",
              "      </button>\n",
              "      \n",
              "  <style>\n",
              "    .colab-df-container {\n",
              "      display:flex;\n",
              "      flex-wrap:wrap;\n",
              "      gap: 12px;\n",
              "    }\n",
              "\n",
              "    .colab-df-convert {\n",
              "      background-color: #E8F0FE;\n",
              "      border: none;\n",
              "      border-radius: 50%;\n",
              "      cursor: pointer;\n",
              "      display: none;\n",
              "      fill: #1967D2;\n",
              "      height: 32px;\n",
              "      padding: 0 0 0 0;\n",
              "      width: 32px;\n",
              "    }\n",
              "\n",
              "    .colab-df-convert:hover {\n",
              "      background-color: #E2EBFA;\n",
              "      box-shadow: 0px 1px 2px rgba(60, 64, 67, 0.3), 0px 1px 3px 1px rgba(60, 64, 67, 0.15);\n",
              "      fill: #174EA6;\n",
              "    }\n",
              "\n",
              "    [theme=dark] .colab-df-convert {\n",
              "      background-color: #3B4455;\n",
              "      fill: #D2E3FC;\n",
              "    }\n",
              "\n",
              "    [theme=dark] .colab-df-convert:hover {\n",
              "      background-color: #434B5C;\n",
              "      box-shadow: 0px 1px 3px 1px rgba(0, 0, 0, 0.15);\n",
              "      filter: drop-shadow(0px 1px 2px rgba(0, 0, 0, 0.3));\n",
              "      fill: #FFFFFF;\n",
              "    }\n",
              "  </style>\n",
              "\n",
              "      <script>\n",
              "        const buttonEl =\n",
              "          document.querySelector('#df-b0e1b235-2c84-4333-918e-57cda1be3f09 button.colab-df-convert');\n",
              "        buttonEl.style.display =\n",
              "          google.colab.kernel.accessAllowed ? 'block' : 'none';\n",
              "\n",
              "        async function convertToInteractive(key) {\n",
              "          const element = document.querySelector('#df-b0e1b235-2c84-4333-918e-57cda1be3f09');\n",
              "          const dataTable =\n",
              "            await google.colab.kernel.invokeFunction('convertToInteractive',\n",
              "                                                     [key], {});\n",
              "          if (!dataTable) return;\n",
              "\n",
              "          const docLinkHtml = 'Like what you see? Visit the ' +\n",
              "            '<a target=\"_blank\" href=https://colab.research.google.com/notebooks/data_table.ipynb>data table notebook</a>'\n",
              "            + ' to learn more about interactive tables.';\n",
              "          element.innerHTML = '';\n",
              "          dataTable['output_type'] = 'display_data';\n",
              "          await google.colab.output.renderOutput(dataTable, element);\n",
              "          const docLink = document.createElement('div');\n",
              "          docLink.innerHTML = docLinkHtml;\n",
              "          element.appendChild(docLink);\n",
              "        }\n",
              "      </script>\n",
              "    </div>\n",
              "  </div>\n",
              "  "
            ]
          },
          "metadata": {},
          "execution_count": 4
        }
      ]
    },
    {
      "cell_type": "code",
      "source": [
        "##remove all leading and trailing whitespaces from the column values\n",
        "df = df.applymap(lambda x: x.strip() if isinstance(x, str) else x)"
      ],
      "metadata": {
        "id": "mM6ViAJ9xyy5"
      },
      "execution_count": 5,
      "outputs": []
    },
    {
      "cell_type": "code",
      "source": [
        "df.info()"
      ],
      "metadata": {
        "colab": {
          "base_uri": "https://localhost:8080/"
        },
        "id": "dq7P96-gsVP5",
        "outputId": "9cad44df-22e0-43d0-8ace-7d0de072c668"
      },
      "execution_count": 6,
      "outputs": [
        {
          "output_type": "stream",
          "name": "stdout",
          "text": [
            "<class 'pandas.core.frame.DataFrame'>\n",
            "RangeIndex: 32561 entries, 0 to 32560\n",
            "Data columns (total 15 columns):\n",
            " #   Column          Non-Null Count  Dtype \n",
            "---  ------          --------------  ----- \n",
            " 0   age             32561 non-null  int64 \n",
            " 1   workclass       32561 non-null  object\n",
            " 2   fnlwgt          32561 non-null  int64 \n",
            " 3   education       32561 non-null  object\n",
            " 4   education-num   32561 non-null  int64 \n",
            " 5   marital-status  32561 non-null  object\n",
            " 6   occupation      32561 non-null  object\n",
            " 7   relationship    32561 non-null  object\n",
            " 8   race            32561 non-null  object\n",
            " 9   sex             32561 non-null  object\n",
            " 10  capital-gain    32561 non-null  int64 \n",
            " 11  capital-loss    32561 non-null  int64 \n",
            " 12  hours-per-week  32561 non-null  int64 \n",
            " 13  native-country  32561 non-null  object\n",
            " 14  income          32561 non-null  object\n",
            "dtypes: int64(6), object(9)\n",
            "memory usage: 3.7+ MB\n"
          ]
        }
      ]
    },
    {
      "cell_type": "code",
      "source": [
        "##Observe the target variable\n",
        "df['income'].value_counts()"
      ],
      "metadata": {
        "colab": {
          "base_uri": "https://localhost:8080/"
        },
        "id": "9-487NczvkRV",
        "outputId": "bef51c2c-6569-48c2-90df-967a1dd6edcb"
      },
      "execution_count": 7,
      "outputs": [
        {
          "output_type": "execute_result",
          "data": {
            "text/plain": [
              "<=50K    24720\n",
              ">50K      7841\n",
              "Name: income, dtype: int64"
            ]
          },
          "metadata": {},
          "execution_count": 7
        }
      ]
    },
    {
      "cell_type": "markdown",
      "source": [
        "We are checking the distribution of target variable to verify whether the data is balanced or not"
      ],
      "metadata": {
        "id": "7VXqCYQQRlJV"
      }
    },
    {
      "cell_type": "code",
      "source": [
        "plt.figure(figsize = (8,5))\n",
        "plt.title('Distribution of Target variable (income)', fontsize=10, fontweight='bold')\n",
        "eda_percentage = df['income'].value_counts(normalize = True).rename_axis('income').reset_index(name = 'Percentage')\n",
        "\n",
        "ax = sns.barplot(x = 'income', y = 'Percentage', data = eda_percentage.head(10), palette='Greens_r')"
      ],
      "metadata": {
        "colab": {
          "base_uri": "https://localhost:8080/",
          "height": 348
        },
        "id": "FhwH_5Az7VHO",
        "outputId": "aaf06e8d-d164-4772-a05e-d3a457e8c470"
      },
      "execution_count": 8,
      "outputs": [
        {
          "output_type": "display_data",
          "data": {
            "text/plain": [
              "<Figure size 576x360 with 1 Axes>"
            ],
            "image/png": "[encoded data removed]"
          },
          "metadata": {
            "needs_background": "light"
          }
        }
      ]
    },
    {
      "cell_type": "markdown",
      "source": [
        "From the observation of target variable we can see there is class imbalance present. So, we have to deal with this before applying any machine learning algorithm, otherwise the algorithm will tend to learn more about the majority class"
      ],
      "metadata": {
        "id": "L4SdFj5w1BZC"
      }
    },
    {
      "cell_type": "markdown",
      "source": [
        "We are mapping the target variable to binary values for the ease of usage"
      ],
      "metadata": {
        "id": "gLXgk2fXRvDv"
      }
    },
    {
      "cell_type": "code",
      "source": [
        "#Mapping binary values to the target variable\n",
        "df['income']=df['income'].map({'<=50K': 0, '>50K': 1})"
      ],
      "metadata": {
        "id": "d3AksD9Xvrj0"
      },
      "execution_count": 9,
      "outputs": []
    },
    {
      "cell_type": "code",
      "source": [
        "#There are no null values but we observe some variable with ?. We will replace them with NAN value\n",
        "df = df.replace('?',np.nan)\n",
        "df.info()"
      ],
      "metadata": {
        "colab": {
          "base_uri": "https://localhost:8080/"
        },
        "id": "5d13yW89rWbt",
        "outputId": "e0555048-ff7c-438d-992a-1d9458a342fc"
      },
      "execution_count": 10,
      "outputs": [
        {
          "output_type": "stream",
          "name": "stdout",
          "text": [
            "<class 'pandas.core.frame.DataFrame'>\n",
            "RangeIndex: 32561 entries, 0 to 32560\n",
            "Data columns (total 15 columns):\n",
            " #   Column          Non-Null Count  Dtype \n",
            "---  ------          --------------  ----- \n",
            " 0   age             32561 non-null  int64 \n",
            " 1   workclass       30725 non-null  object\n",
            " 2   fnlwgt          32561 non-null  int64 \n",
            " 3   education       32561 non-null  object\n",
            " 4   education-num   32561 non-null  int64 \n",
            " 5   marital-status  32561 non-null  object\n",
            " 6   occupation      30718 non-null  object\n",
            " 7   relationship    32561 non-null  object\n",
            " 8   race            32561 non-null  object\n",
            " 9   sex             32561 non-null  object\n",
            " 10  capital-gain    32561 non-null  int64 \n",
            " 11  capital-loss    32561 non-null  int64 \n",
            " 12  hours-per-week  32561 non-null  int64 \n",
            " 13  native-country  31978 non-null  object\n",
            " 14  income          32561 non-null  int64 \n",
            "dtypes: int64(7), object(8)\n",
            "memory usage: 3.7+ MB\n"
          ]
        }
      ]
    },
    {
      "cell_type": "markdown",
      "source": [
        "We observe that after replacing the '?' values with *NAN*, there are some missing values in *workclass*, *occupation*, and *native-country* column. We need to treat these missing values."
      ],
      "metadata": {
        "id": "wVvgYMAPyGkC"
      }
    },
    {
      "cell_type": "markdown",
      "source": [
        "# Impute Missing Values\n"
      ],
      "metadata": {
        "id": "_8--h0nb1ypF"
      }
    },
    {
      "cell_type": "markdown",
      "source": [
        "Since, workclass, occupation, and native-country are the features with missing values, and they are categorical variable, we will replace the missing values with mode of that particular feature"
      ],
      "metadata": {
        "id": "EJEM2Q7t147r"
      }
    },
    {
      "cell_type": "code",
      "source": [
        "for c in ['workclass', 'occupation', 'native-country']:\n",
        "    df[c].fillna(df[c].mode()[0], inplace=True)"
      ],
      "metadata": {
        "id": "ii7_KHzA14H2"
      },
      "execution_count": 11,
      "outputs": []
    },
    {
      "cell_type": "code",
      "source": [
        "df.isnull().sum()"
      ],
      "metadata": {
        "id": "h71Fk9W7vzHO",
        "colab": {
          "base_uri": "https://localhost:8080/"
        },
        "outputId": "caa9c7d5-6fd6-4ef9-a26d-956c6ae4bb23"
      },
      "execution_count": 12,
      "outputs": [
        {
          "output_type": "execute_result",
          "data": {
            "text/plain": [
              "age               0\n",
              "workclass         0\n",
              "fnlwgt            0\n",
              "education         0\n",
              "education-num     0\n",
              "marital-status    0\n",
              "occupation        0\n",
              "relationship      0\n",
              "race              0\n",
              "sex               0\n",
              "capital-gain      0\n",
              "capital-loss      0\n",
              "hours-per-week    0\n",
              "native-country    0\n",
              "income            0\n",
              "dtype: int64"
            ]
          },
          "metadata": {},
          "execution_count": 12
        }
      ]
    },
    {
      "cell_type": "markdown",
      "source": [
        "We Observe that after replacing the missing values, there are no more missing value present in the dataset."
      ],
      "metadata": {
        "id": "I9EKUWRx2Wzt"
      }
    },
    {
      "cell_type": "markdown",
      "source": [
        "# Outlier Treatment"
      ],
      "metadata": {
        "id": "C8WwwEnt3V6A"
      }
    },
    {
      "cell_type": "markdown",
      "source": [
        "Before proceeding we have to check for the potential outliers present in the dataset, otherwise it can affect your prediction. We will produce some box-plots to see if there are any outliers present in the dataset"
      ],
      "metadata": {
        "id": "5FRrWUqs3Y-A"
      }
    },
    {
      "cell_type": "code",
      "source": [
        "columns_to_be_checked = ['age','fnlwgt','education-num','capital-gain','capital-loss','hours-per-week']\n",
        "for x in columns_to_be_checked:\n",
        "  sns.boxplot(df[x])\n",
        "  plt.show()"
      ],
      "metadata": {
        "colab": {
          "base_uri": "https://localhost:8080/",
          "height": 1000
        },
        "id": "p0qNmlxo2T1u",
        "outputId": "eb29d6b9-6070-4025-dbda-48bcd8f6d78e"
      },
      "execution_count": 13,
      "outputs": [
        {
          "output_type": "stream",
          "name": "stderr",
          "text": [
            "/usr/local/lib/python3.7/dist-packages/seaborn/_decorators.py:43: FutureWarning: Pass the following variable as a keyword arg: x. From version 0.12, the only valid positional argument will be `data`, and passing other arguments without an explicit keyword will result in an error or misinterpretation.\n",
            "  FutureWarning\n"
          ]
        },
        {
          "output_type": "display_data",
          "data": {
            "text/plain": [
              "<Figure size 432x288 with 1 Axes>"
            ],
            "image/png": "[encoded data removed]"
          },
          "metadata": {
            "needs_background": "light"
          }
        },
        {
          "output_type": "stream",
          "name": "stderr",
          "text": [
            "/usr/local/lib/python3.7/dist-packages/seaborn/_decorators.py:43: FutureWarning: Pass the following variable as a keyword arg: x. From version 0.12, the only valid positional argument will be `data`, and passing other arguments without an explicit keyword will result in an error or misinterpretation.\n",
            "  FutureWarning\n"
          ]
        },
        {
          "output_type": "display_data",
          "data": {
            "text/plain": [
              "<Figure size 432x288 with 1 Axes>"
            ],
            "image/png": "[encoded data removed]"
          },
          "metadata": {
            "needs_background": "light"
          }
        },
        {
          "output_type": "stream",
          "name": "stderr",
          "text": [
            "/usr/local/lib/python3.7/dist-packages/seaborn/_decorators.py:43: FutureWarning: Pass the following variable as a keyword arg: x. From version 0.12, the only valid positional argument will be `data`, and passing other arguments without an explicit keyword will result in an error or misinterpretation.\n",
            "  FutureWarning\n"
          ]
        },
        {
          "output_type": "display_data",
          "data": {
            "text/plain": [
              "<Figure size 432x288 with 1 Axes>"
            ],
            "image/png": "[encoded data removed]"
          },
          "metadata": {
            "needs_background": "light"
          }
        },
        {
          "output_type": "stream",
          "name": "stderr",
          "text": [
            "/usr/local/lib/python3.7/dist-packages/seaborn/_decorators.py:43: FutureWarning: Pass the following variable as a keyword arg: x. From version 0.12, the only valid positional argument will be `data`, and passing other arguments without an explicit keyword will result in an error or misinterpretation.\n",
            "  FutureWarning\n"
          ]
        },
        {
          "output_type": "display_data",
          "data": {
            "text/plain": [
              "<Figure size 432x288 with 1 Axes>"
            ],
            "image/png": "[encoded data removed]"
          },
          "metadata": {
            "needs_background": "light"
          }
        },
        {
          "output_type": "stream",
          "name": "stderr",
          "text": [
            "/usr/local/lib/python3.7/dist-packages/seaborn/_decorators.py:43: FutureWarning: Pass the following variable as a keyword arg: x. From version 0.12, the only valid positional argument will be `data`, and passing other arguments without an explicit keyword will result in an error or misinterpretation.\n",
            "  FutureWarning\n"
          ]
        },
        {
          "output_type": "display_data",
          "data": {
            "text/plain": [
              "<Figure size 432x288 with 1 Axes>"
            ],
            "image/png": "[encoded data removed]"
          },
          "metadata": {
            "needs_background": "light"
          }
        },
        {
          "output_type": "stream",
          "name": "stderr",
          "text": [
            "/usr/local/lib/python3.7/dist-packages/seaborn/_decorators.py:43: FutureWarning: Pass the following variable as a keyword arg: x. From version 0.12, the only valid positional argument will be `data`, and passing other arguments without an explicit keyword will result in an error or misinterpretation.\n",
            "  FutureWarning\n"
          ]
        },
        {
          "output_type": "display_data",
          "data": {
            "text/plain": [
              "<Figure size 432x288 with 1 Axes>"
            ],
            "image/png": "[encoded data removed]"
          },
          "metadata": {
            "needs_background": "light"
          }
        }
      ]
    },
    {
      "cell_type": "markdown",
      "source": [
        "From the box plots, we observe there are some outliers in the features. Capital-gain and Capital-loss needs to be handled differently as we need to see the values other than zeros. We will use IQR to handle the outlier in the below section. Education-num does not have any significant amount of outliers, hence that can be ignored"
      ],
      "metadata": {
        "id": "3g-QoQCl8AvO"
      }
    },
    {
      "cell_type": "markdown",
      "source": [
        "Observe the boxplots for capital-loss and capital-gain where both are not equals to 0"
      ],
      "metadata": {
        "id": "MehNy9OU9_on"
      }
    },
    {
      "cell_type": "code",
      "source": [
        "df_capital_loss_wo_zero = df.loc[df['capital-loss']!=0,:]\n",
        "df_capital_gain_wo_zero = df.loc[df['capital-gain']!=0,:]\n",
        "\n",
        "plt.figure(figsize=(15,5))\n",
        "plt.subplot(121)\n",
        "sns.boxplot(df_capital_gain_wo_zero['capital-gain'])\n",
        "\n",
        "plt.subplot(122)\n",
        "sns.boxplot(df_capital_loss_wo_zero[\"capital-loss\"])"
      ],
      "metadata": {
        "colab": {
          "base_uri": "https://localhost:8080/",
          "height": 439
        },
        "id": "8CwPY2j54e4o",
        "outputId": "48dd5a2b-cb2a-4b33-a345-0b52f37d4d60"
      },
      "execution_count": 14,
      "outputs": [
        {
          "output_type": "stream",
          "name": "stderr",
          "text": [
            "/usr/local/lib/python3.7/dist-packages/seaborn/_decorators.py:43: FutureWarning: Pass the following variable as a keyword arg: x. From version 0.12, the only valid positional argument will be `data`, and passing other arguments without an explicit keyword will result in an error or misinterpretation.\n",
            "  FutureWarning\n",
            "/usr/local/lib/python3.7/dist-packages/seaborn/_decorators.py:43: FutureWarning: Pass the following variable as a keyword arg: x. From version 0.12, the only valid positional argument will be `data`, and passing other arguments without an explicit keyword will result in an error or misinterpretation.\n",
            "  FutureWarning\n"
          ]
        },
        {
          "output_type": "execute_result",
          "data": {
            "text/plain": [
              "<matplotlib.axes._subplots.AxesSubplot at 0x7faa6e5b4850>"
            ]
          },
          "metadata": {},
          "execution_count": 14
        },
        {
          "output_type": "display_data",
          "data": {
            "text/plain": [
              "<Figure size 1080x360 with 2 Axes>"
            ],
            "image/png": "[encoded data removed]"
          },
          "metadata": {
            "needs_background": "light"
          }
        }
      ]
    },
    {
      "cell_type": "code",
      "source": [
        "filtered_cols = ['age','fnlwgt','capital-gain','capital-loss','hours-per-week']\n",
        "lower_limits=[]\n",
        "upper_limits=[]\n",
        "IQR_values=[]\n",
        "\n",
        "for i in range(len(filtered_cols)):\n",
        "    \n",
        "    Q1=df[filtered_cols[i]].quantile(0.25) \n",
        "    Q3=df[filtered_cols[i]].quantile(0.75) \n",
        "    IQR=Q3-Q1 \n",
        "    IQR_values.append(IQR)\n",
        "    lower_limit=Q1-(1.5*IQR) \n",
        "    lower_limits.append(lower_limit)\n",
        "    upper_limit=Q3+1.5*IQR \n",
        "    upper_limits.append(upper_limit)"
      ],
      "metadata": {
        "id": "cT45j7oz-ri3"
      },
      "execution_count": 15,
      "outputs": []
    },
    {
      "cell_type": "markdown",
      "source": [
        "Now check the IQR table"
      ],
      "metadata": {
        "id": "HWAIx4MVANGW"
      }
    },
    {
      "cell_type": "code",
      "source": [
        "IQR_table=pd.DataFrame({\"columns\":filtered_cols,\"lower_limits\":lower_limits,\n",
        "                        \"upper_limits\":upper_limits,\"IQR_values\":IQR_values})\n",
        "IQR_table "
      ],
      "metadata": {
        "colab": {
          "base_uri": "https://localhost:8080/",
          "height": 204
        },
        "id": "FoOHvcdLAMJa",
        "outputId": "9e05de92-5b1f-4cad-f032-19f185c837b3"
      },
      "execution_count": 16,
      "outputs": [
        {
          "output_type": "execute_result",
          "data": {
            "text/plain": [
              "          columns  lower_limits  upper_limits  IQR_values\n",
              "0             age          -2.0          78.0        20.0\n",
              "1          fnlwgt      -61009.0      415887.0    119224.0\n",
              "2    capital-gain           0.0           0.0         0.0\n",
              "3    capital-loss           0.0           0.0         0.0\n",
              "4  hours-per-week          32.5          52.5         5.0"
            ],
            "text/html": [
              "\n",
              "  <div id=\"df-88210cea-909d-435f-806d-449ec60f90af\">\n",
              "    <div class=\"colab-df-container\">\n",
              "      <div>\n",
              "<style scoped>\n",
              "    .dataframe tbody tr th:only-of-type {\n",
              "        vertical-align: middle;\n",
              "    }\n",
              "\n",
              "    .dataframe tbody tr th {\n",
              "        vertical-align: top;\n",
              "    }\n",
              "\n",
              "    .dataframe thead th {\n",
              "        text-align: right;\n",
              "    }\n",
              "</style>\n",
              "<table border=\"1\" class=\"dataframe\">\n",
              "  <thead>\n",
              "    <tr style=\"text-align: right;\">\n",
              "      <th></th>\n",
              "      <th>columns</th>\n",
              "      <th>lower_limits</th>\n",
              "      <th>upper_limits</th>\n",
              "      <th>IQR_values</th>\n",
              "    </tr>\n",
              "  </thead>\n",
              "  <tbody>\n",
              "    <tr>\n",
              "      <th>0</th>\n",
              "      <td>age</td>\n",
              "      <td>-2.0</td>\n",
              "      <td>78.0</td>\n",
              "      <td>20.0</td>\n",
              "    </tr>\n",
              "    <tr>\n",
              "      <th>1</th>\n",
              "      <td>fnlwgt</td>\n",
              "      <td>-61009.0</td>\n",
              "      <td>415887.0</td>\n",
              "      <td>119224.0</td>\n",
              "    </tr>\n",
              "    <tr>\n",
              "      <th>2</th>\n",
              "      <td>capital-gain</td>\n",
              "      <td>0.0</td>\n",
              "      <td>0.0</td>\n",
              "      <td>0.0</td>\n",
              "    </tr>\n",
              "    <tr>\n",
              "      <th>3</th>\n",
              "      <td>capital-loss</td>\n",
              "      <td>0.0</td>\n",
              "      <td>0.0</td>\n",
              "      <td>0.0</td>\n",
              "    </tr>\n",
              "    <tr>\n",
              "      <th>4</th>\n",
              "      <td>hours-per-week</td>\n",
              "      <td>32.5</td>\n",
              "      <td>52.5</td>\n",
              "      <td>5.0</td>\n",
              "    </tr>\n",
              "  </tbody>\n",
              "</table>\n",
              "</div>\n",
              "      <button class=\"colab-df-convert\" onclick=\"convertToInteractive('df-88210cea-909d-435f-806d-449ec60f90af')\"\n",
              "              title=\"Convert this dataframe to an interactive table.\"\n",
              "              style=\"display:none;\">\n",
              "        \n",
              "  <svg xmlns=\"http://www.w3.org/2000/svg\" height=\"24px\"viewBox=\"0 0 24 24\"\n",
              "       width=\"24px\">\n",
              "    <path d=\"M0 0h24v24H0V0z\" fill=\"none\"/>\n",
              "    <path d=\"M18.56 5.44l.94 2.06.94-2.06 2.06-.94-2.06-.94-.94-2.06-.94 2.06-2.06.94zm-11 1L8.5 8.5l.94-2.06 2.06-.94-2.06-.94L8.5 2.5l-.94 2.06-2.06.94zm10 10l.94 2.06.94-2.06 2.06-.94-2.06-.94-.94-2.06-.94 2.06-2.06.94z\"/><path d=\"M17.41 7.96l-1.37-1.37c-.4-.4-.92-.59-1.43-.59-.52 0-1.04.2-1.43.59L10.3 9.45l-7.72 7.72c-.78.78-.78 2.05 0 2.83L4 21.41c.39.39.9.59 1.41.59.51 0 1.02-.2 1.41-.59l7.78-7.78 2.81-2.81c.8-.78.8-2.07 0-2.86zM5.41 20L4 18.59l7.72-7.72 1.47 1.35L5.41 20z\"/>\n",
              "  </svg>\n",
              "      </button>\n",
              "      \n",
              "  <style>\n",
              "    .colab-df-container {\n",
              "      display:flex;\n",
              "      flex-wrap:wrap;\n",
              "      gap: 12px;\n",
              "    }\n",
              "\n",
              "    .colab-df-convert {\n",
              "      background-color: #E8F0FE;\n",
              "      border: none;\n",
              "      border-radius: 50%;\n",
              "      cursor: pointer;\n",
              "      display: none;\n",
              "      fill: #1967D2;\n",
              "      height: 32px;\n",
              "      padding: 0 0 0 0;\n",
              "      width: 32px;\n",
              "    }\n",
              "\n",
              "    .colab-df-convert:hover {\n",
              "      background-color: #E2EBFA;\n",
              "      box-shadow: 0px 1px 2px rgba(60, 64, 67, 0.3), 0px 1px 3px 1px rgba(60, 64, 67, 0.15);\n",
              "      fill: #174EA6;\n",
              "    }\n",
              "\n",
              "    [theme=dark] .colab-df-convert {\n",
              "      background-color: #3B4455;\n",
              "      fill: #D2E3FC;\n",
              "    }\n",
              "\n",
              "    [theme=dark] .colab-df-convert:hover {\n",
              "      background-color: #434B5C;\n",
              "      box-shadow: 0px 1px 3px 1px rgba(0, 0, 0, 0.15);\n",
              "      filter: drop-shadow(0px 1px 2px rgba(0, 0, 0, 0.3));\n",
              "      fill: #FFFFFF;\n",
              "    }\n",
              "  </style>\n",
              "\n",
              "      <script>\n",
              "        const buttonEl =\n",
              "          document.querySelector('#df-88210cea-909d-435f-806d-449ec60f90af button.colab-df-convert');\n",
              "        buttonEl.style.display =\n",
              "          google.colab.kernel.accessAllowed ? 'block' : 'none';\n",
              "\n",
              "        async function convertToInteractive(key) {\n",
              "          const element = document.querySelector('#df-88210cea-909d-435f-806d-449ec60f90af');\n",
              "          const dataTable =\n",
              "            await google.colab.kernel.invokeFunction('convertToInteractive',\n",
              "                                                     [key], {});\n",
              "          if (!dataTable) return;\n",
              "\n",
              "          const docLinkHtml = 'Like what you see? Visit the ' +\n",
              "            '<a target=\"_blank\" href=https://colab.research.google.com/notebooks/data_table.ipynb>data table notebook</a>'\n",
              "            + ' to learn more about interactive tables.';\n",
              "          element.innerHTML = '';\n",
              "          dataTable['output_type'] = 'display_data';\n",
              "          await google.colab.output.renderOutput(dataTable, element);\n",
              "          const docLink = document.createElement('div');\n",
              "          docLink.innerHTML = docLinkHtml;\n",
              "          element.appendChild(docLink);\n",
              "        }\n",
              "      </script>\n",
              "    </div>\n",
              "  </div>\n",
              "  "
            ]
          },
          "metadata": {},
          "execution_count": 16
        }
      ]
    },
    {
      "cell_type": "markdown",
      "source": [
        "As mentioned earlier, we will consider capital-gain and capital-loss value which is not equals to 0."
      ],
      "metadata": {
        "id": "eNHkYxZ6Aejh"
      }
    },
    {
      "cell_type": "code",
      "source": [
        "Q1_capital_loss=df[df[\"capital-loss\"]!=0][\"capital-loss\"].quantile(0.25)\n",
        "Q3_capital_loss=df[df[\"capital-loss\"]!=0][\"capital-loss\"].quantile(0.75)\n",
        "IQR_loss=Q3_capital_loss-Q1_capital_loss\n",
        "lower_limit_loss=Q1_capital_loss-(1.5*IQR_loss)\n",
        "upper_limit_loss=Q3_capital_loss+(1.5*IQR_loss)\n",
        "\n",
        "print(\"Capital-Loss Lower Limit :\",lower_limit_loss)\n",
        "print(\"Capital-Loss Upper Limit :\",upper_limit_loss)\n",
        "\n",
        "print (\"========================\")\n",
        "\n",
        "Q1_capital_gain=df[df[\"capital-gain\"]!=0][\"capital-gain\"].quantile(0.25)\n",
        "Q3_capital_gain=df[df[\"capital-gain\"]!=0][\"capital-gain\"].quantile(0.75)\n",
        "IQR_gain=Q3_capital_gain-Q1_capital_gain\n",
        "lower_limit_gain=Q1_capital_gain-(1.5*IQR_gain)\n",
        "upper_limit_gain=Q3_capital_gain+(1.5*IQR_gain)\n",
        "\n",
        "print(\"Capital-Gain Lower Limit :\",lower_limit_gain)\n",
        "print(\"Capital-Gain Upper Limit:\",upper_limit_gain)"
      ],
      "metadata": {
        "colab": {
          "base_uri": "https://localhost:8080/"
        },
        "id": "TP81h5H_AVw2",
        "outputId": "5b747e85-4f19-449a-972d-ef5b4555089e"
      },
      "execution_count": 17,
      "outputs": [
        {
          "output_type": "stream",
          "name": "stdout",
          "text": [
            "Capital-Loss Lower Limit : 1214.5\n",
            "Capital-Loss Upper Limit : 2434.5\n",
            "========================\n",
            "Capital-Gain Lower Limit : -12598.5\n",
            "Capital-Gain Upper Limit: 30093.5\n"
          ]
        }
      ]
    },
    {
      "cell_type": "markdown",
      "source": [
        "Now we will be identifying the outliers for this two features. There will be two conditions: when capital-loss/capital-gain not equals to 0 and it is less than lower limit, or its not equals to 0 and it is greater than the upper limit. This outliers we need to remove from the dataset"
      ],
      "metadata": {
        "id": "IZE_vulhBZfq"
      }
    },
    {
      "cell_type": "code",
      "source": [
        "outlier_capital_gain = ((df[\"capital-gain\"]!=0 )& (df[\"capital-gain\"]<lower_limit_gain )) | ((df[\"capital-gain\"]!=0 )& (df[\"capital-gain\"]>upper_limit_gain ))\n",
        "outlier_capital_loss = ((df[\"capital-loss\"]!=0 )& (df[\"capital-loss\"]<lower_limit_loss)) | ((df[\"capital-loss\"]!=0 )& (df[\"capital-loss\"]>upper_limit_loss ))"
      ],
      "metadata": {
        "id": "-nCMVRSWBEl1"
      },
      "execution_count": 18,
      "outputs": []
    },
    {
      "cell_type": "code",
      "source": [
        "df.loc[outlier_capital_gain,\"capital-gain\"]=df_capital_gain_wo_zero[\"capital-gain\"].mode()[0]\n",
        "df.loc[outlier_capital_loss,\"capital-loss\"]=df_capital_loss_wo_zero[\"capital-loss\"].mode()[0]"
      ],
      "metadata": {
        "id": "VKfxLGx-B6L2"
      },
      "execution_count": 19,
      "outputs": []
    },
    {
      "cell_type": "markdown",
      "source": [
        "Remove the outlier for age, fnlwgt"
      ],
      "metadata": {
        "id": "E6uGhm7HCq6A"
      }
    },
    {
      "cell_type": "code",
      "source": [
        "df.drop(df[df[\"age\"]>upper_limits[0]].index,inplace=True) \n",
        "df.drop(df[df[\"fnlwgt\"]>900000].index,inplace=True) "
      ],
      "metadata": {
        "id": "ZvTrhnszClBL"
      },
      "execution_count": 20,
      "outputs": []
    },
    {
      "cell_type": "code",
      "source": [
        "df.describe().T"
      ],
      "metadata": {
        "colab": {
          "base_uri": "https://localhost:8080/",
          "height": 266
        },
        "id": "Gv84fEdrDIhO",
        "outputId": "deb9fad6-ae35-488a-d82f-27082f0de400"
      },
      "execution_count": 21,
      "outputs": [
        {
          "output_type": "execute_result",
          "data": {
            "text/plain": [
              "                  count           mean            std      min       25%  \\\n",
              "age             32398.0      38.384592      13.332532     17.0      28.0   \n",
              "fnlwgt          32398.0  189341.510062  103056.141558  12285.0  117847.5   \n",
              "education-num   32398.0      10.082999       2.568359      1.0       9.0   \n",
              "capital-gain    32398.0     655.349898    2693.989598      0.0       0.0   \n",
              "capital-loss    32398.0      87.256096     397.455240      0.0       0.0   \n",
              "hours-per-week  32398.0      40.491357      12.297511      1.0      40.0   \n",
              "income          32398.0       0.241126       0.427773      0.0       0.0   \n",
              "\n",
              "                     50%        75%       max  \n",
              "age                 37.0      47.00      78.0  \n",
              "fnlwgt          178469.5  236988.75  889965.0  \n",
              "education-num       10.0      12.00      16.0  \n",
              "capital-gain         0.0       0.00   27828.0  \n",
              "capital-loss         0.0       0.00    2415.0  \n",
              "hours-per-week      40.0      45.00      99.0  \n",
              "income               0.0       0.00       1.0  "
            ],
            "text/html": [
              "\n",
              "  <div id=\"df-a8a77270-307c-413f-9ab7-db03ca92b7c4\">\n",
              "    <div class=\"colab-df-container\">\n",
              "      <div>\n",
              "<style scoped>\n",
              "    .dataframe tbody tr th:only-of-type {\n",
              "        vertical-align: middle;\n",
              "    }\n",
              "\n",
              "    .dataframe tbody tr th {\n",
              "        vertical-align: top;\n",
              "    }\n",
              "\n",
              "    .dataframe thead th {\n",
              "        text-align: right;\n",
              "    }\n",
              "</style>\n",
              "<table border=\"1\" class=\"dataframe\">\n",
              "  <thead>\n",
              "    <tr style=\"text-align: right;\">\n",
              "      <th></th>\n",
              "      <th>count</th>\n",
              "      <th>mean</th>\n",
              "      <th>std</th>\n",
              "      <th>min</th>\n",
              "      <th>25%</th>\n",
              "      <th>50%</th>\n",
              "      <th>75%</th>\n",
              "      <th>max</th>\n",
              "    </tr>\n",
              "  </thead>\n",
              "  <tbody>\n",
              "    <tr>\n",
              "      <th>age</th>\n",
              "      <td>32398.0</td>\n",
              "      <td>38.384592</td>\n",
              "      <td>13.332532</td>\n",
              "      <td>17.0</td>\n",
              "      <td>28.0</td>\n",
              "      <td>37.0</td>\n",
              "      <td>47.00</td>\n",
              "      <td>78.0</td>\n",
              "    </tr>\n",
              "    <tr>\n",
              "      <th>fnlwgt</th>\n",
              "      <td>32398.0</td>\n",
              "      <td>189341.510062</td>\n",
              "      <td>103056.141558</td>\n",
              "      <td>12285.0</td>\n",
              "      <td>117847.5</td>\n",
              "      <td>178469.5</td>\n",
              "      <td>236988.75</td>\n",
              "      <td>889965.0</td>\n",
              "    </tr>\n",
              "    <tr>\n",
              "      <th>education-num</th>\n",
              "      <td>32398.0</td>\n",
              "      <td>10.082999</td>\n",
              "      <td>2.568359</td>\n",
              "      <td>1.0</td>\n",
              "      <td>9.0</td>\n",
              "      <td>10.0</td>\n",
              "      <td>12.00</td>\n",
              "      <td>16.0</td>\n",
              "    </tr>\n",
              "    <tr>\n",
              "      <th>capital-gain</th>\n",
              "      <td>32398.0</td>\n",
              "      <td>655.349898</td>\n",
              "      <td>2693.989598</td>\n",
              "      <td>0.0</td>\n",
              "      <td>0.0</td>\n",
              "      <td>0.0</td>\n",
              "      <td>0.00</td>\n",
              "      <td>27828.0</td>\n",
              "    </tr>\n",
              "    <tr>\n",
              "      <th>capital-loss</th>\n",
              "      <td>32398.0</td>\n",
              "      <td>87.256096</td>\n",
              "      <td>397.455240</td>\n",
              "      <td>0.0</td>\n",
              "      <td>0.0</td>\n",
              "      <td>0.0</td>\n",
              "      <td>0.00</td>\n",
              "      <td>2415.0</td>\n",
              "    </tr>\n",
              "    <tr>\n",
              "      <th>hours-per-week</th>\n",
              "      <td>32398.0</td>\n",
              "      <td>40.491357</td>\n",
              "      <td>12.297511</td>\n",
              "      <td>1.0</td>\n",
              "      <td>40.0</td>\n",
              "      <td>40.0</td>\n",
              "      <td>45.00</td>\n",
              "      <td>99.0</td>\n",
              "    </tr>\n",
              "    <tr>\n",
              "      <th>income</th>\n",
              "      <td>32398.0</td>\n",
              "      <td>0.241126</td>\n",
              "      <td>0.427773</td>\n",
              "      <td>0.0</td>\n",
              "      <td>0.0</td>\n",
              "      <td>0.0</td>\n",
              "      <td>0.00</td>\n",
              "      <td>1.0</td>\n",
              "    </tr>\n",
              "  </tbody>\n",
              "</table>\n",
              "</div>\n",
              "      <button class=\"colab-df-convert\" onclick=\"convertToInteractive('df-a8a77270-307c-413f-9ab7-db03ca92b7c4')\"\n",
              "              title=\"Convert this dataframe to an interactive table.\"\n",
              "              style=\"display:none;\">\n",
              "        \n",
              "  <svg xmlns=\"http://www.w3.org/2000/svg\" height=\"24px\"viewBox=\"0 0 24 24\"\n",
              "       width=\"24px\">\n",
              "    <path d=\"M0 0h24v24H0V0z\" fill=\"none\"/>\n",
              "    <path d=\"M18.56 5.44l.94 2.06.94-2.06 2.06-.94-2.06-.94-.94-2.06-.94 2.06-2.06.94zm-11 1L8.5 8.5l.94-2.06 2.06-.94-2.06-.94L8.5 2.5l-.94 2.06-2.06.94zm10 10l.94 2.06.94-2.06 2.06-.94-2.06-.94-.94-2.06-.94 2.06-2.06.94z\"/><path d=\"M17.41 7.96l-1.37-1.37c-.4-.4-.92-.59-1.43-.59-.52 0-1.04.2-1.43.59L10.3 9.45l-7.72 7.72c-.78.78-.78 2.05 0 2.83L4 21.41c.39.39.9.59 1.41.59.51 0 1.02-.2 1.41-.59l7.78-7.78 2.81-2.81c.8-.78.8-2.07 0-2.86zM5.41 20L4 18.59l7.72-7.72 1.47 1.35L5.41 20z\"/>\n",
              "  </svg>\n",
              "      </button>\n",
              "      \n",
              "  <style>\n",
              "    .colab-df-container {\n",
              "      display:flex;\n",
              "      flex-wrap:wrap;\n",
              "      gap: 12px;\n",
              "    }\n",
              "\n",
              "    .colab-df-convert {\n",
              "      background-color: #E8F0FE;\n",
              "      border: none;\n",
              "      border-radius: 50%;\n",
              "      cursor: pointer;\n",
              "      display: none;\n",
              "      fill: #1967D2;\n",
              "      height: 32px;\n",
              "      padding: 0 0 0 0;\n",
              "      width: 32px;\n",
              "    }\n",
              "\n",
              "    .colab-df-convert:hover {\n",
              "      background-color: #E2EBFA;\n",
              "      box-shadow: 0px 1px 2px rgba(60, 64, 67, 0.3), 0px 1px 3px 1px rgba(60, 64, 67, 0.15);\n",
              "      fill: #174EA6;\n",
              "    }\n",
              "\n",
              "    [theme=dark] .colab-df-convert {\n",
              "      background-color: #3B4455;\n",
              "      fill: #D2E3FC;\n",
              "    }\n",
              "\n",
              "    [theme=dark] .colab-df-convert:hover {\n",
              "      background-color: #434B5C;\n",
              "      box-shadow: 0px 1px 3px 1px rgba(0, 0, 0, 0.15);\n",
              "      filter: drop-shadow(0px 1px 2px rgba(0, 0, 0, 0.3));\n",
              "      fill: #FFFFFF;\n",
              "    }\n",
              "  </style>\n",
              "\n",
              "      <script>\n",
              "        const buttonEl =\n",
              "          document.querySelector('#df-a8a77270-307c-413f-9ab7-db03ca92b7c4 button.colab-df-convert');\n",
              "        buttonEl.style.display =\n",
              "          google.colab.kernel.accessAllowed ? 'block' : 'none';\n",
              "\n",
              "        async function convertToInteractive(key) {\n",
              "          const element = document.querySelector('#df-a8a77270-307c-413f-9ab7-db03ca92b7c4');\n",
              "          const dataTable =\n",
              "            await google.colab.kernel.invokeFunction('convertToInteractive',\n",
              "                                                     [key], {});\n",
              "          if (!dataTable) return;\n",
              "\n",
              "          const docLinkHtml = 'Like what you see? Visit the ' +\n",
              "            '<a target=\"_blank\" href=https://colab.research.google.com/notebooks/data_table.ipynb>data table notebook</a>'\n",
              "            + ' to learn more about interactive tables.';\n",
              "          element.innerHTML = '';\n",
              "          dataTable['output_type'] = 'display_data';\n",
              "          await google.colab.output.renderOutput(dataTable, element);\n",
              "          const docLink = document.createElement('div');\n",
              "          docLink.innerHTML = docLinkHtml;\n",
              "          element.appendChild(docLink);\n",
              "        }\n",
              "      </script>\n",
              "    </div>\n",
              "  </div>\n",
              "  "
            ]
          },
          "metadata": {},
          "execution_count": 21
        }
      ]
    },
    {
      "cell_type": "markdown",
      "source": [
        "Find the correlation between the variables"
      ],
      "metadata": {
        "id": "BgY4mlDwO1Qi"
      }
    },
    {
      "cell_type": "code",
      "source": [
        "# This heatmap shows the Correlation between the different variables\n",
        "plt.rcParams['figure.figsize'] = [10,7]\n",
        "sns.heatmap(df.corr(), annot = True, color = 'blue', cmap = 'YlGn');"
      ],
      "metadata": {
        "id": "b_gTzS5xDRBq",
        "colab": {
          "base_uri": "https://localhost:8080/",
          "height": 500
        },
        "outputId": "a835d7f4-9a5e-4505-aff1-1211410d902f"
      },
      "execution_count": 22,
      "outputs": [
        {
          "output_type": "display_data",
          "data": {
            "text/plain": [
              "<Figure size 720x504 with 2 Axes>"
            ],
            "image/png": "[encoded data removed]"
          },
          "metadata": {
            "needs_background": "light"
          }
        }
      ]
    },
    {
      "cell_type": "markdown",
      "source": [
        "We dont see any highly correlated features present in the dataset from the above correlation matrix."
      ],
      "metadata": {
        "id": "iRQ5MMUWQo51"
      }
    },
    {
      "cell_type": "markdown",
      "source": [
        "# Encode categorical variable and prepare the dataset for training"
      ],
      "metadata": {
        "id": "Nsg2NwiARKfD"
      }
    },
    {
      "cell_type": "code",
      "source": [
        "categorical_features = ['workclass','education', 'marital-status', 'occupation', 'relationship',\n",
        "               'race', 'sex','native-country']"
      ],
      "metadata": {
        "id": "tHAZNHvfRQtE"
      },
      "execution_count": 23,
      "outputs": []
    },
    {
      "cell_type": "markdown",
      "source": [
        "Check the relationship of the categorical variable with target variable"
      ],
      "metadata": {
        "id": "aVZcUmYcRgBJ"
      }
    },
    {
      "cell_type": "code",
      "source": [
        "for i in categorical_features:\n",
        "  sns_grad = sns.barplot(x = df[i], y = df['income'], data = df)\n",
        "  plt.setp(sns_grad.get_xticklabels(), rotation=90)\n",
        "  plt.show()"
      ],
      "metadata": {
        "colab": {
          "base_uri": "https://localhost:8080/",
          "height": 1000
        },
        "id": "BtyzxvdxRfR_",
        "outputId": "9f3ba7db-345f-4c64-f50a-086106e1d0a4"
      },
      "execution_count": 24,
      "outputs": [
        {
          "output_type": "display_data",
          "data": {
            "text/plain": [
              "<Figure size 720x504 with 1 Axes>"
            ],
            "image/png": "[encoded data removed]"
          },
          "metadata": {
            "needs_background": "light"
          }
        },
        {
          "output_type": "display_data",
          "data": {
            "text/plain": [
              "<Figure size 720x504 with 1 Axes>"
            ],
            "image/png": "[encoded data removed]"
          },
          "metadata": {
            "needs_background": "light"
          }
        },
        {
          "output_type": "display_data",
          "data": {
            "text/plain": [
              "<Figure size 720x504 with 1 Axes>"
            ],
            "image/png": "[encoded data removed]"
          },
          "metadata": {
            "needs_background": "light"
          }
        },
        {
          "output_type": "display_data",
          "data": {
            "text/plain": [
              "<Figure size 720x504 with 1 Axes>"
            ],
            "image/png": "[encoded data removed]"
          },
          "metadata": {
            "needs_background": "light"
          }
        },
        {
          "output_type": "display_data",
          "data": {
            "text/plain": [
              "<Figure size 720x504 with 1 Axes>"
            ],
            "image/png": "[encoded data removed]"
          },
          "metadata": {
            "needs_background": "light"
          }
        },
        {
          "output_type": "display_data",
          "data": {
            "text/plain": [
              "<Figure size 720x504 with 1 Axes>"
            ],
            "image/png": "[encoded data removed]"
          },
          "metadata": {
            "needs_background": "light"
          }
        },
        {
          "output_type": "display_data",
          "data": {
            "text/plain": [
              "<Figure size 720x504 with 1 Axes>"
            ],
            "image/png": "[encoded data removed]"
          },
          "metadata": {
            "needs_background": "light"
          }
        },
        {
          "output_type": "display_data",
          "data": {
            "text/plain": [
              "<Figure size 720x504 with 1 Axes>"
            ],
            "image/png": "[encoded data removed]"
          },
          "metadata": {
            "needs_background": "light"
          }
        }
      ]
    },
    {
      "cell_type": "markdown",
      "source": [
        " \n",
        "\n",
        "1.   For workclass-income visualization, we can see there *Without-pay* and *Never-worked* have no entry against income.\n",
        "2.   For education-income visualization, we can see *pre-school* have no significant income. \n",
        "3. For occupation-income visualization, we observe that *Priv-house-serv* don't have significant contribution in income.\n",
        "4. For relationship-income visualization, *own-child* do not have significant contribution.\n",
        "5. For native-country vs income visualization, *Outlying_US*, and *Holand-Netherlands* do not have significant contirbution.\n",
        "\n",
        "\n",
        "\n"
      ],
      "metadata": {
        "id": "Dyi3cRuYTZne"
      }
    },
    {
      "cell_type": "markdown",
      "source": [
        "ENCODE the Categorical variables"
      ],
      "metadata": {
        "id": "_Hr7hW-uatT1"
      }
    },
    {
      "cell_type": "code",
      "source": [
        "le = LabelEncoder()\n",
        "for c in categorical_features:\n",
        "  le.fit(df[c])\n",
        "  df[c] = le.transform(df[c])\n",
        "df.head(5)"
      ],
      "metadata": {
        "colab": {
          "base_uri": "https://localhost:8080/",
          "height": 265
        },
        "id": "bACsjJG1Sm04",
        "outputId": "bbe9539b-f5f2-436d-d4cf-404f765d5e95"
      },
      "execution_count": 25,
      "outputs": [
        {
          "output_type": "execute_result",
          "data": {
            "text/plain": [
              "   age  workclass  fnlwgt  education  education-num  marital-status  \\\n",
              "0   39          6   77516          9             13               4   \n",
              "1   50          5   83311          9             13               2   \n",
              "2   38          3  215646         11              9               0   \n",
              "3   53          3  234721          1              7               2   \n",
              "4   28          3  338409          9             13               2   \n",
              "\n",
              "   occupation  relationship  race  sex  capital-gain  capital-loss  \\\n",
              "0           0             1     4    1          2174             0   \n",
              "1           3             0     4    1             0             0   \n",
              "2           5             1     4    1             0             0   \n",
              "3           5             0     2    1             0             0   \n",
              "4           9             5     2    0             0             0   \n",
              "\n",
              "   hours-per-week  native-country  income  \n",
              "0              40              38       0  \n",
              "1              13              38       0  \n",
              "2              40              38       0  \n",
              "3              40              38       0  \n",
              "4              40               4       0  "
            ],
            "text/html": [
              "\n",
              "  <div id=\"df-74d40166-81bb-4c5a-a37d-9e3a6f74fa3c\">\n",
              "    <div class=\"colab-df-container\">\n",
              "      <div>\n",
              "<style scoped>\n",
              "    .dataframe tbody tr th:only-of-type {\n",
              "        vertical-align: middle;\n",
              "    }\n",
              "\n",
              "    .dataframe tbody tr th {\n",
              "        vertical-align: top;\n",
              "    }\n",
              "\n",
              "    .dataframe thead th {\n",
              "        text-align: right;\n",
              "    }\n",
              "</style>\n",
              "<table border=\"1\" class=\"dataframe\">\n",
              "  <thead>\n",
              "    <tr style=\"text-align: right;\">\n",
              "      <th></th>\n",
              "      <th>age</th>\n",
              "      <th>workclass</th>\n",
              "      <th>fnlwgt</th>\n",
              "      <th>education</th>\n",
              "      <th>education-num</th>\n",
              "      <th>marital-status</th>\n",
              "      <th>occupation</th>\n",
              "      <th>relationship</th>\n",
              "      <th>race</th>\n",
              "      <th>sex</th>\n",
              "      <th>capital-gain</th>\n",
              "      <th>capital-loss</th>\n",
              "      <th>hours-per-week</th>\n",
              "      <th>native-country</th>\n",
              "      <th>income</th>\n",
              "    </tr>\n",
              "  </thead>\n",
              "  <tbody>\n",
              "    <tr>\n",
              "      <th>0</th>\n",
              "      <td>39</td>\n",
              "      <td>6</td>\n",
              "      <td>77516</td>\n",
              "      <td>9</td>\n",
              "      <td>13</td>\n",
              "      <td>4</td>\n",
              "      <td>0</td>\n",
              "      <td>1</td>\n",
              "      <td>4</td>\n",
              "      <td>1</td>\n",
              "      <td>2174</td>\n",
              "      <td>0</td>\n",
              "      <td>40</td>\n",
              "      <td>38</td>\n",
              "      <td>0</td>\n",
              "    </tr>\n",
              "    <tr>\n",
              "      <th>1</th>\n",
              "      <td>50</td>\n",
              "      <td>5</td>\n",
              "      <td>83311</td>\n",
              "      <td>9</td>\n",
              "      <td>13</td>\n",
              "      <td>2</td>\n",
              "      <td>3</td>\n",
              "      <td>0</td>\n",
              "      <td>4</td>\n",
              "      <td>1</td>\n",
              "      <td>0</td>\n",
              "      <td>0</td>\n",
              "      <td>13</td>\n",
              "      <td>38</td>\n",
              "      <td>0</td>\n",
              "    </tr>\n",
              "    <tr>\n",
              "      <th>2</th>\n",
              "      <td>38</td>\n",
              "      <td>3</td>\n",
              "      <td>215646</td>\n",
              "      <td>11</td>\n",
              "      <td>9</td>\n",
              "      <td>0</td>\n",
              "      <td>5</td>\n",
              "      <td>1</td>\n",
              "      <td>4</td>\n",
              "      <td>1</td>\n",
              "      <td>0</td>\n",
              "      <td>0</td>\n",
              "      <td>40</td>\n",
              "      <td>38</td>\n",
              "      <td>0</td>\n",
              "    </tr>\n",
              "    <tr>\n",
              "      <th>3</th>\n",
              "      <td>53</td>\n",
              "      <td>3</td>\n",
              "      <td>234721</td>\n",
              "      <td>1</td>\n",
              "      <td>7</td>\n",
              "      <td>2</td>\n",
              "      <td>5</td>\n",
              "      <td>0</td>\n",
              "      <td>2</td>\n",
              "      <td>1</td>\n",
              "      <td>0</td>\n",
              "      <td>0</td>\n",
              "      <td>40</td>\n",
              "      <td>38</td>\n",
              "      <td>0</td>\n",
              "    </tr>\n",
              "    <tr>\n",
              "      <th>4</th>\n",
              "      <td>28</td>\n",
              "      <td>3</td>\n",
              "      <td>338409</td>\n",
              "      <td>9</td>\n",
              "      <td>13</td>\n",
              "      <td>2</td>\n",
              "      <td>9</td>\n",
              "      <td>5</td>\n",
              "      <td>2</td>\n",
              "      <td>0</td>\n",
              "      <td>0</td>\n",
              "      <td>0</td>\n",
              "      <td>40</td>\n",
              "      <td>4</td>\n",
              "      <td>0</td>\n",
              "    </tr>\n",
              "  </tbody>\n",
              "</table>\n",
              "</div>\n",
              "      <button class=\"colab-df-convert\" onclick=\"convertToInteractive('df-74d40166-81bb-4c5a-a37d-9e3a6f74fa3c')\"\n",
              "              title=\"Convert this dataframe to an interactive table.\"\n",
              "              style=\"display:none;\">\n",
              "        \n",
              "  <svg xmlns=\"http://www.w3.org/2000/svg\" height=\"24px\"viewBox=\"0 0 24 24\"\n",
              "       width=\"24px\">\n",
              "    <path d=\"M0 0h24v24H0V0z\" fill=\"none\"/>\n",
              "    <path d=\"M18.56 5.44l.94 2.06.94-2.06 2.06-.94-2.06-.94-.94-2.06-.94 2.06-2.06.94zm-11 1L8.5 8.5l.94-2.06 2.06-.94-2.06-.94L8.5 2.5l-.94 2.06-2.06.94zm10 10l.94 2.06.94-2.06 2.06-.94-2.06-.94-.94-2.06-.94 2.06-2.06.94z\"/><path d=\"M17.41 7.96l-1.37-1.37c-.4-.4-.92-.59-1.43-.59-.52 0-1.04.2-1.43.59L10.3 9.45l-7.72 7.72c-.78.78-.78 2.05 0 2.83L4 21.41c.39.39.9.59 1.41.59.51 0 1.02-.2 1.41-.59l7.78-7.78 2.81-2.81c.8-.78.8-2.07 0-2.86zM5.41 20L4 18.59l7.72-7.72 1.47 1.35L5.41 20z\"/>\n",
              "  </svg>\n",
              "      </button>\n",
              "      \n",
              "  <style>\n",
              "    .colab-df-container {\n",
              "      display:flex;\n",
              "      flex-wrap:wrap;\n",
              "      gap: 12px;\n",
              "    }\n",
              "\n",
              "    .colab-df-convert {\n",
              "      background-color: #E8F0FE;\n",
              "      border: none;\n",
              "      border-radius: 50%;\n",
              "      cursor: pointer;\n",
              "      display: none;\n",
              "      fill: #1967D2;\n",
              "      height: 32px;\n",
              "      padding: 0 0 0 0;\n",
              "      width: 32px;\n",
              "    }\n",
              "\n",
              "    .colab-df-convert:hover {\n",
              "      background-color: #E2EBFA;\n",
              "      box-shadow: 0px 1px 2px rgba(60, 64, 67, 0.3), 0px 1px 3px 1px rgba(60, 64, 67, 0.15);\n",
              "      fill: #174EA6;\n",
              "    }\n",
              "\n",
              "    [theme=dark] .colab-df-convert {\n",
              "      background-color: #3B4455;\n",
              "      fill: #D2E3FC;\n",
              "    }\n",
              "\n",
              "    [theme=dark] .colab-df-convert:hover {\n",
              "      background-color: #434B5C;\n",
              "      box-shadow: 0px 1px 3px 1px rgba(0, 0, 0, 0.15);\n",
              "      filter: drop-shadow(0px 1px 2px rgba(0, 0, 0, 0.3));\n",
              "      fill: #FFFFFF;\n",
              "    }\n",
              "  </style>\n",
              "\n",
              "      <script>\n",
              "        const buttonEl =\n",
              "          document.querySelector('#df-74d40166-81bb-4c5a-a37d-9e3a6f74fa3c button.colab-df-convert');\n",
              "        buttonEl.style.display =\n",
              "          google.colab.kernel.accessAllowed ? 'block' : 'none';\n",
              "\n",
              "        async function convertToInteractive(key) {\n",
              "          const element = document.querySelector('#df-74d40166-81bb-4c5a-a37d-9e3a6f74fa3c');\n",
              "          const dataTable =\n",
              "            await google.colab.kernel.invokeFunction('convertToInteractive',\n",
              "                                                     [key], {});\n",
              "          if (!dataTable) return;\n",
              "\n",
              "          const docLinkHtml = 'Like what you see? Visit the ' +\n",
              "            '<a target=\"_blank\" href=https://colab.research.google.com/notebooks/data_table.ipynb>data table notebook</a>'\n",
              "            + ' to learn more about interactive tables.';\n",
              "          element.innerHTML = '';\n",
              "          dataTable['output_type'] = 'display_data';\n",
              "          await google.colab.output.renderOutput(dataTable, element);\n",
              "          const docLink = document.createElement('div');\n",
              "          docLink.innerHTML = docLinkHtml;\n",
              "          element.appendChild(docLink);\n",
              "        }\n",
              "      </script>\n",
              "    </div>\n",
              "  </div>\n",
              "  "
            ]
          },
          "metadata": {},
          "execution_count": 25
        }
      ]
    },
    {
      "cell_type": "markdown",
      "source": [
        "Split the data using train-test split"
      ],
      "metadata": {
        "id": "woNLV_A0cqVI"
      }
    },
    {
      "cell_type": "code",
      "source": [
        "X = df.drop(['income'], axis=1)\n",
        "y = df['income']\n",
        "X_train, X_test, y_train, y_test = train_test_split(X, y, test_size = 0.2, random_state = 0)"
      ],
      "metadata": {
        "id": "5AQqozBPcc-f"
      },
      "execution_count": 26,
      "outputs": []
    },
    {
      "cell_type": "markdown",
      "source": [
        "Perform Feature Scaling"
      ],
      "metadata": {
        "id": "7tKChEXkdiJw"
      }
    },
    {
      "cell_type": "code",
      "source": [
        "scaler = StandardScaler()\n",
        "\n",
        "X_train = pd.DataFrame(scaler.fit_transform(X_train), columns = X.columns)\n",
        "X_test = pd.DataFrame(scaler.transform(X_test), columns = X.columns)"
      ],
      "metadata": {
        "id": "ShPJqqioc_t6"
      },
      "execution_count": 27,
      "outputs": []
    },
    {
      "cell_type": "markdown",
      "source": [
        "# Logistic Regression Model"
      ],
      "metadata": {
        "id": "pdjbXYnlBC7n"
      }
    },
    {
      "cell_type": "markdown",
      "source": [
        "We will use Logistic Regression model to perform the classification"
      ],
      "metadata": {
        "id": "wIhXgxjgBNbN"
      }
    },
    {
      "cell_type": "code",
      "source": [
        "from sklearn.linear_model import LogisticRegression\n",
        "from sklearn.metrics import accuracy_score\n",
        "from sklearn.metrics import classification_report\n",
        "\n",
        "model_log = LogisticRegression()\n",
        "model_log.fit(X_train, y_train)\n",
        "y_pred = model_log.predict(X_test)\n",
        "\n",
        "print('Accuracy score of logistic Regression Model: {0:0.4f}'. format(accuracy_score(y_test, y_pred)))\n",
        "\n",
        "print (\"=================\")\n",
        "#Printing Classification Report\n",
        "print(classification_report(y_test, y_pred))"
      ],
      "metadata": {
        "colab": {
          "base_uri": "https://localhost:8080/"
        },
        "id": "3LNLdH-SBTQb",
        "outputId": "a66de865-27ba-4391-9485-6d79ee6a2598"
      },
      "execution_count": 28,
      "outputs": [
        {
          "output_type": "stream",
          "name": "stdout",
          "text": [
            "Accuracy score of logistic Regression Model: 0.8198\n",
            "=================\n",
            "              precision    recall  f1-score   support\n",
            "\n",
            "           0       0.84      0.94      0.89      4923\n",
            "           1       0.69      0.45      0.54      1557\n",
            "\n",
            "    accuracy                           0.82      6480\n",
            "   macro avg       0.77      0.69      0.72      6480\n",
            "weighted avg       0.81      0.82      0.80      6480\n",
            "\n"
          ]
        }
      ]
    },
    {
      "cell_type": "markdown",
      "source": [
        "We can see Using Logistic Regression on the original dataset works poorly on the minority class, as the dataset is imbalanced. Though the accuracy is coming nearly 82%, we can see Precision, Recall, and F1-score for minority class is low. For an imbalanced class problem we can not use accuracy as the ideal metric, we have to check class-specific precision, recall, and F1-score."
      ],
      "metadata": {
        "id": "Hh93bdmiCChU"
      }
    },
    {
      "cell_type": "markdown",
      "source": [
        "Now, we will perform SMOTE oversampling to generate some synthetic data and then perform the logistic regression model. We only perform the oversampling on the training data, not on the test data"
      ],
      "metadata": {
        "id": "rmhNrXlACf7H"
      }
    },
    {
      "cell_type": "code",
      "source": [
        "from imblearn.over_sampling import SMOTE\n",
        "oversample = SMOTE()\n",
        "X_train_os, y_train_os = oversample.fit_resample(X_train, y_train)"
      ],
      "metadata": {
        "id": "NsFIgHyeCn9d"
      },
      "execution_count": 29,
      "outputs": []
    },
    {
      "cell_type": "markdown",
      "source": [
        "## Logistic Regression Model with Oversampled Dataset"
      ],
      "metadata": {
        "id": "rIvfO5PMSdw3"
      }
    },
    {
      "cell_type": "markdown",
      "source": [
        "Now perfrom the same logistic regression on the above oversampled dataset"
      ],
      "metadata": {
        "id": "b_Z0UCHmC1ez"
      }
    },
    {
      "cell_type": "code",
      "source": [
        "model_log_os = LogisticRegression()\n",
        "model_log_os.fit(X_train_os, y_train_os)\n",
        "y_pred_os = model_log_os.predict(X_test)\n",
        "\n",
        "print('Accuracy score of logistic Regression Model after perfroming oversampling: {0:0.4f}'. format(accuracy_score(y_test, y_pred_os)))\n",
        "\n",
        "print (\"=================\")\n",
        "#Printing Classification Report\n",
        "print(classification_report(y_test, y_pred_os))"
      ],
      "metadata": {
        "colab": {
          "base_uri": "https://localhost:8080/"
        },
        "id": "twEDM1BaC6A_",
        "outputId": "7c6344c4-d297-4cbc-a811-eaeec4a2794f"
      },
      "execution_count": 30,
      "outputs": [
        {
          "output_type": "stream",
          "name": "stdout",
          "text": [
            "Accuracy score of logistic Regression Model after perfroming oversampling: 0.7691\n",
            "=================\n",
            "              precision    recall  f1-score   support\n",
            "\n",
            "           0       0.92      0.77      0.83      4923\n",
            "           1       0.51      0.78      0.62      1557\n",
            "\n",
            "    accuracy                           0.77      6480\n",
            "   macro avg       0.71      0.77      0.73      6480\n",
            "weighted avg       0.82      0.77      0.78      6480\n",
            "\n"
          ]
        }
      ]
    },
    {
      "cell_type": "markdown",
      "source": [
        "We can observe, the accuracy score of the oversampled dataset decreased to 77%, but for the minority class, we can see a huge improvement in terms of recall, precision, and F1-score. That means the model is able to distinguish well between the classes despite the imbalance in the original dataset. We will consider this model as our 1st model."
      ],
      "metadata": {
        "id": "2dlGWKtbDWnc"
      }
    },
    {
      "cell_type": "markdown",
      "source": [
        "## XGBoost Model"
      ],
      "metadata": {
        "id": "bwW6pIUwESDE"
      }
    },
    {
      "cell_type": "markdown",
      "source": [
        "We will use XGBoost model as our 2nd model to perform the classification. From the above experience we will directly use the oversampled dataset for our purpose, because we don't want to perform the classification on imbalanced dataset."
      ],
      "metadata": {
        "id": "-QVAzk7GEVD0"
      }
    },
    {
      "cell_type": "code",
      "source": [
        "from xgboost import XGBClassifier\n",
        "\n",
        "model_xgb = XGBClassifier()\n",
        "model_xgb.fit(X_train_os, y_train_os)\n",
        "\n",
        "y_pred_xgb = model_xgb.predict(X_test)\n",
        "print (\"The accuracy of model 2 : \",accuracy_score(y_test, y_pred_xgb))\n",
        "\n",
        "print (\"==================\")\n",
        "print (classification_report(y_test,y_pred_xgb))"
      ],
      "metadata": {
        "colab": {
          "base_uri": "https://localhost:8080/"
        },
        "id": "exUoozdDEqAv",
        "outputId": "c1a5e202-0ead-4457-95d4-daaf5a791e99"
      },
      "execution_count": 31,
      "outputs": [
        {
          "output_type": "stream",
          "name": "stdout",
          "text": [
            "The accuracy of model 2 :  0.8234567901234567\n",
            "==================\n",
            "              precision    recall  f1-score   support\n",
            "\n",
            "           0       0.94      0.82      0.88      4923\n",
            "           1       0.60      0.82      0.69      1557\n",
            "\n",
            "    accuracy                           0.82      6480\n",
            "   macro avg       0.77      0.82      0.78      6480\n",
            "weighted avg       0.85      0.82      0.83      6480\n",
            "\n"
          ]
        }
      ]
    },
    {
      "cell_type": "markdown",
      "source": [
        "We can see XGboost model performs much better than logistic regression model, becuase of its ensemble learning architecture. XGBoost works in boosting technique, which helps the model to reduce bias, hence model learns well. This reflects in the above the classification report."
      ],
      "metadata": {
        "id": "TVCdrzr7FITE"
      }
    },
    {
      "cell_type": "markdown",
      "source": [
        "Now we will perform 5-fold cross validation to check whether our model is overfitted or not"
      ],
      "metadata": {
        "id": "Y4V_KJ7YHR-B"
      }
    },
    {
      "cell_type": "markdown",
      "source": [
        "## Cross Validation on XGBoost Model"
      ],
      "metadata": {
        "id": "syfGEtcjHc3j"
      }
    },
    {
      "cell_type": "code",
      "source": [
        "from sklearn.model_selection import cross_val_score,KFold\n",
        "\n",
        "kf=KFold(n_splits=5)\n",
        "\n",
        "score=cross_val_score(model_xgb,X_train,y_train,cv=kf)\n",
        "\n",
        "print(\"Cross Validation Scores are in XGBoost model {}\".format(score))\n",
        "print(\"Average Cross Validation score in XGBoost model :{}\".format(score.mean()))"
      ],
      "metadata": {
        "colab": {
          "base_uri": "https://localhost:8080/"
        },
        "id": "b_M1mraRHXrP",
        "outputId": "d099439b-44b9-4583-831d-db9e3c0c7f60"
      },
      "execution_count": 32,
      "outputs": [
        {
          "output_type": "stream",
          "name": "stdout",
          "text": [
            "Cross Validation Scores are in XGBoost model [0.85706019 0.86496914 0.86053241 0.86687247 0.86745128]\n",
            "Average Cross Validation score in XGBoost model :0.8633770958237162\n"
          ]
        }
      ]
    },
    {
      "cell_type": "markdown",
      "source": [
        "From the cross validation score we can see our model is well generalized, hence it is not overfitted."
      ],
      "metadata": {
        "id": "VJlJtVp-H77S"
      }
    },
    {
      "cell_type": "markdown",
      "source": [
        "## Cross Validation on Logistic Regression Model"
      ],
      "metadata": {
        "id": "o5tBd5JlICA5"
      }
    },
    {
      "cell_type": "code",
      "source": [
        "from sklearn.model_selection import cross_val_score,KFold\n",
        "\n",
        "kf=KFold(n_splits=5)\n",
        "\n",
        "score=cross_val_score(model_log_os,X_train,y_train,cv=kf)\n",
        "\n",
        "print(\"Cross Validation Scores are in Logistic Regression model {}\".format(score))\n",
        "print(\"Average Cross Validation score in Logistic Regression model :{}\".format(score.mean()))"
      ],
      "metadata": {
        "colab": {
          "base_uri": "https://localhost:8080/"
        },
        "id": "47_ublRoIJEg",
        "outputId": "da0cee98-484d-4af5-ac53-2955ec3d8beb"
      },
      "execution_count": 33,
      "outputs": [
        {
          "output_type": "stream",
          "name": "stdout",
          "text": [
            "Cross Validation Scores are in Logistic Regression model [0.82465278 0.82484568 0.82561728 0.82596952 0.82558364]\n",
            "Average Cross Validation score in Logistic Regression model :0.8253337790568882\n"
          ]
        }
      ]
    },
    {
      "cell_type": "markdown",
      "source": [
        "From the above cross validation score, we can see our Logistic Regression Model is not overfitted as well. In 5-fold cross validation we did not see an abrupt changes in the scores. Hence we can conclude both our models are trained well, and they are not overfitted"
      ],
      "metadata": {
        "id": "63wI3fkOIU2I"
      }
    },
    {
      "cell_type": "markdown",
      "source": [
        "## ROC Curve to check which model is better"
      ],
      "metadata": {
        "id": "IcMuZlhoJf-2"
      }
    },
    {
      "cell_type": "markdown",
      "source": [
        "We will plot ROC curve and check the Area Under Curve (AUC). The model with more AUC, will be treated as the best model between these two."
      ],
      "metadata": {
        "id": "6laSEBCOJtMd"
      }
    },
    {
      "cell_type": "code",
      "source": [
        "from sklearn import metrics\n",
        "models = [model_log_os,model_xgb]\n",
        "model_names = ['Logistic Regression', 'XGBoost']\n",
        "\n",
        "plt.rcParams['figure.figsize'] = [10,7]\n",
        "color = ['red','blue']\n",
        "\n",
        "plt.title(\"ROC\", fontsize = 15)\n",
        "plt.xlabel(\"Specificity\", fontsize = 15)\n",
        "plt.ylabel(\"Sensitivity\", fontsize = 15)\n",
        "\n",
        "for i, model in enumerate(models) :\n",
        "    prob = model.predict_proba(X_test)\n",
        "    prob_positive = prob[:,1]\n",
        "    fpr, tpr, threshold = metrics.roc_curve(y_test, prob_positive)\n",
        "    plt.plot(fpr, tpr, color = color[i])\n",
        "    plt.gca().legend(model_names, loc = 'lower right', frameon = True)\n",
        "\n",
        "plt.plot([0,1],[0,1], linestyle = '--', color = 'black')\n",
        "plt.show()"
      ],
      "metadata": {
        "colab": {
          "base_uri": "https://localhost:8080/",
          "height": 465
        },
        "id": "nhzj87iIJr_2",
        "outputId": "c1783a9c-3735-4f88-b59b-ce52d89b4cb3"
      },
      "execution_count": 34,
      "outputs": [
        {
          "output_type": "display_data",
          "data": {
            "text/plain": [
              "<Figure size 720x504 with 1 Axes>"
            ],
            "image/png": "[encoded data removed]"
          },
          "metadata": {
            "needs_background": "light"
          }
        }
      ]
    },
    {
      "cell_type": "markdown",
      "source": [
        "We can see clearly from the above ROC, that AUC of XGBoost model is much better than AUC of Logistic Regression model. Hence we can conclude that XGBoost model is the best performing model from our experiment."
      ],
      "metadata": {
        "id": "TJsr2cIRLYhy"
      }
    },
    {
      "cell_type": "markdown",
      "source": [
        "## Summary: Explanation of the problem is brief and Our proposed approach"
      ],
      "metadata": {
        "id": "HMEz5M0BMc9G"
      }
    },
    {
      "cell_type": "markdown",
      "source": [
        "The above problem was basically a supervised machine learning problem where we are asked to find the income of a person on basis of some other features. We have followed the below steps to solve our problem:\n",
        "\n",
        "1. We use web scrapping (beautifulsoup) to collect the dataset by calling the api.\n",
        "2. We format the dataset in human explanable way and store it to pandas dataframe.\n",
        "3. Then, we perform several Exploratory Data Analysis (EDA) on the features.\n",
        "4. We clean the dataset, did missing value imputation, perform outlier treatment. We make sure that we do not have any correlated features to our training data by checking the correlation matrix.\n",
        "5. We split the dataset in 80:20 ratio between training and testing.\n",
        "6. We perform scaling and stadardization on the data.'\n",
        "7. Since, from our observation we saw that the data is imbalanced, we use SMOTE oversampling to introduce synthetic data on the training set, so that the model learns well for the minority class.\n",
        "8. We use Logistic Regression and XGBoost model to perform our analysis.\n",
        "9. We make sure that our model is not overfitted by applying 5 fold cross validation.\n",
        "10. From ROC we found that XGboost model has higher Area Under Curve (AUC) than Logistic Regression model, hence we come to the conclusion that XGBoost model is the best performing among these two."
      ],
      "metadata": {
        "id": "8FuCw2phMjkY"
      }
    }
  ]
}